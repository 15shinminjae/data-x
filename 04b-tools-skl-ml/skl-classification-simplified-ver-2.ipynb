{
 "cells": [
  {
   "cell_type": "markdown",
   "metadata": {},
   "source": [
    "![](http://i67.tinypic.com/2jcbwcw.png)\n",
    "\n",
    "## Classification\n",
    "\n",
    "Classification - predicting the discrete class ($y$) of an object from a vector of input features ($\\vec x$).  \n",
    "Models used in this notebook include: Logistic Regression, Support Vector Machines, KNN\n",
    "\n",
    "**Author List**: Kevin Li, Ikhlaq Sidhu\n",
    "\n",
    "**Original Sources**: http://scikit-learn.org, http://archive.ics.uci.edu/ml/datasets/Iris\n",
    "\n",
    "**License**: Feel free to do whatever you want to with this code\n"
   ]
  },
  {
   "cell_type": "markdown",
   "metadata": {},
   "source": [
    "## Iris Dataset"
   ]
  },
  {
   "cell_type": "code",
   "execution_count": 1,
   "metadata": {},
   "outputs": [],
   "source": [
    "# Original code source: Gaël Varoquaux\n",
    "# Modified for documentation by Jaques Grobler\n",
    "# License: BSD 3 clause\n",
    "\n",
    "import numpy as np\n",
    "import matplotlib.pyplot as plt\n",
    "from sklearn import linear_model, datasets\n",
    "\n",
    "# import some data to play with\n",
    "iris = datasets.load_iris()\n",
    "X = iris.data[:, :2]  # we only take the first two features, ie all in 1st axis, 0:2 in 2nd axis\n",
    "Y = iris.target\n",
    "# type(iris)"
   ]
  },
  {
   "cell_type": "code",
   "execution_count": 2,
   "metadata": {},
   "outputs": [
    {
     "name": "stdout",
     "output_type": "stream",
     "text": [
      "('feature vector shape=', (150, 2))\n",
      "('class shape=', (150,))\n"
     ]
    }
   ],
   "source": [
    "print(\"feature vector shape=\", X.shape)\n",
    "print(\"class shape=\", Y.shape)"
   ]
  },
  {
   "cell_type": "code",
   "execution_count": 3,
   "metadata": {},
   "outputs": [
    {
     "name": "stdout",
     "output_type": "stream",
     "text": [
      "(array(['setosa', 'versicolor', 'virginica'], \n",
      "      dtype='|S10'), <type 'numpy.ndarray'>)\n",
      "(['sepal length (cm)', 'sepal width (cm)', 'petal length (cm)', 'petal width (cm)'], <type 'list'>)\n"
     ]
    }
   ],
   "source": [
    "print(iris.target_names, type(iris.target_names))\n",
    "print(iris.feature_names, type(iris.feature_names))"
   ]
  },
  {
   "cell_type": "code",
   "execution_count": 4,
   "metadata": {},
   "outputs": [
    {
     "name": "stdout",
     "output_type": "stream",
     "text": [
      "<type 'numpy.ndarray'>\n",
      "[[ 5.1  3.5]\n",
      " [ 4.9  3. ]\n",
      " [ 4.7  3.2]\n",
      " [ 4.6  3.1]\n",
      " [ 5.   3.6]]\n",
      "<type 'numpy.ndarray'>\n",
      "[0 0 0 0 0]\n",
      "---\n",
      "Iris Plants Database\n",
      "\n",
      "Notes\n",
      "-----\n",
      "Data Set Characteristics:\n",
      "    :Number of Instances: 150 (50 in each of three classes)\n",
      "    :Number of Attributes: 4 numeric, predictive attributes and the class\n",
      "    :Attribute Information:\n",
      "        - sepal length in cm\n",
      "        - sepal width in cm\n",
      "        - petal length in cm\n",
      "        - petal width in cm\n",
      "        - class:\n",
      "                - Iris-Setosa\n",
      "                - Iris-Versicolour\n",
      "                - Iris-Virginica\n",
      "    :Summary Statistics:\n",
      "\n",
      "    ============== ==== ==== ======= ===== ====================\n",
      "                    Min  Max   Mean    SD   Class Correlation\n",
      "    ============== ==== ==== ======= ===== ====================\n",
      "    sepal length:   4.3  7.9   5.84   0.83    0.7826\n",
      "    sepal width:    2.0  4.4   3.05   0.43   -0.4194\n",
      "    petal length:   1.0  6.9   3.76   1.76    0.9490  (high!)\n",
      "    petal width:    0.1  2.5   1.20  0.76     0.9565  (high!)\n",
      "    ============== ==== ==== ======= ===== ====================\n",
      "\n",
      "    :Missing Attribute Values: None\n",
      "    :Class Distribution: 33.3% for each of 3 classes.\n",
      "    :Creator: R.A. Fisher\n",
      "    :Donor: Michael Marshall (MARSHALL%PLU@io.arc.nasa.gov)\n",
      "    :Date: July, 1988\n",
      "\n",
      "This is a copy of UCI ML iris datasets.\n",
      "http://archive.ics.uci.edu/ml/datasets/Iris\n",
      "\n",
      "The famous Iris database, first used by Sir R.A Fisher\n",
      "\n",
      "This is perhaps the best known database to be found in the\n",
      "pattern recognition literature.  Fisher's paper is a classic in the field and\n",
      "is referenced frequently to this day.  (See Duda & Hart, for example.)  The\n",
      "data set contains 3 classes of 50 instances each, where each class refers to a\n",
      "type of iris plant.  One class is linearly separable from the other 2; the\n",
      "latter are NOT linearly separable from each other.\n",
      "\n",
      "References\n",
      "----------\n",
      "   - Fisher,R.A. \"The use of multiple measurements in taxonomic problems\"\n",
      "     Annual Eugenics, 7, Part II, 179-188 (1936); also in \"Contributions to\n",
      "     Mathematical Statistics\" (John Wiley, NY, 1950).\n",
      "   - Duda,R.O., & Hart,P.E. (1973) Pattern Classification and Scene Analysis.\n",
      "     (Q327.D83) John Wiley & Sons.  ISBN 0-471-22361-1.  See page 218.\n",
      "   - Dasarathy, B.V. (1980) \"Nosing Around the Neighborhood: A New System\n",
      "     Structure and Classification Rule for Recognition in Partially Exposed\n",
      "     Environments\".  IEEE Transactions on Pattern Analysis and Machine\n",
      "     Intelligence, Vol. PAMI-2, No. 1, 67-71.\n",
      "   - Gates, G.W. (1972) \"The Reduced Nearest Neighbor Rule\".  IEEE Transactions\n",
      "     on Information Theory, May 1972, 431-433.\n",
      "   - See also: 1988 MLC Proceedings, 54-64.  Cheeseman et al\"s AUTOCLASS II\n",
      "     conceptual clustering system finds 3 classes in the data.\n",
      "   - Many, many more ...\n",
      "\n"
     ]
    }
   ],
   "source": [
    "print type (X)\n",
    "print X[0:5]\n",
    "print type (Y)\n",
    "print Y[0:5]\n",
    "print \"---\"\n",
    "print(iris.DESCR)"
   ]
  },
  {
   "cell_type": "code",
   "execution_count": 5,
   "metadata": {},
   "outputs": [
    {
     "name": "stdout",
     "output_type": "stream",
     "text": [
      "Populating the interactive namespace from numpy and matplotlib\n"
     ]
    }
   ],
   "source": [
    "# specifies that figures should be shown inline, directly in the notebook.\n",
    "%pylab inline"
   ]
  },
  {
   "cell_type": "code",
   "execution_count": 6,
   "metadata": {},
   "outputs": [
    {
     "data": {
      "text/plain": [
       "LogisticRegression(C=100000.0, class_weight=None, dual=False,\n",
       "          fit_intercept=True, intercept_scaling=1, max_iter=100,\n",
       "          multi_class='ovr', n_jobs=1, penalty='l2', random_state=None,\n",
       "          solver='liblinear', tol=0.0001, verbose=0, warm_start=False)"
      ]
     },
     "execution_count": 6,
     "metadata": {},
     "output_type": "execute_result"
    }
   ],
   "source": [
    "# Name our regression object\n",
    "logreg = linear_model.LogisticRegression(C=1e5)\n",
    "\n",
    "# we create an instance of Neighbours Classifier and fit the data.\n",
    "logreg.fit(X, Y)"
   ]
  },
  {
   "cell_type": "code",
   "execution_count": 7,
   "metadata": {},
   "outputs": [
    {
     "name": "stdout",
     "output_type": "stream",
     "text": [
      "X is type  <type 'numpy.ndarray'>\n",
      "[[ 5.1  3.5]\n",
      " [ 4.9  3. ]\n",
      " [ 4.7  3.2]\n",
      " [ 4.6  3.1]\n",
      " [ 5.   3.6]]\n",
      "Y is type  <type 'numpy.ndarray'>\n",
      "[0 0 0 0 0 0 0 0 0 0 1 1 1 1 1 1 1 1 1 1 1 1 1 1 1 1 1 1 1 1]\n",
      "Z is the predicted value of Y and of type  <type 'numpy.ndarray'>\n",
      "[0 0 0 0 0 0 0 0 0 0 2 2 2 1 2 1 2 1 2 1 1 1 1 1 1 2 1 1 1 1]\n"
     ]
    }
   ],
   "source": [
    "print \"X is type \", type(X)\n",
    "print X[:5]\n",
    "\n",
    "print \"Y is type \", type(Y)\n",
    "print Y[40:70]\n",
    "\n",
    "Z = logreg.predict(X[40:70])\n",
    "print \"Z is the predicted value of Y and of type \", type(Z)\n",
    "print Z"
   ]
  },
  {
   "cell_type": "code",
   "execution_count": 8,
   "metadata": {},
   "outputs": [
    {
     "name": "stdout",
     "output_type": "stream",
     "text": [
      "Y Z Error\n",
      "0 0 0\n",
      "0 0 0\n",
      "0 0 0\n",
      "0 0 0\n",
      "0 0 0\n",
      "0 0 0\n",
      "0 0 0\n",
      "0 0 0\n",
      "0 0 0\n",
      "0 0 0\n",
      "0 0 0\n",
      "0 0 0\n",
      "0 0 0\n",
      "0 0 0\n",
      "0 0 0\n",
      "0 0 0\n",
      "0 0 0\n",
      "0 0 0\n",
      "0 0 0\n",
      "0 0 0\n",
      "0 0 0\n",
      "0 0 0\n",
      "0 0 0\n",
      "0 0 0\n",
      "0 0 0\n",
      "0 0 0\n",
      "0 0 0\n",
      "0 0 0\n",
      "0 0 0\n",
      "0 0 0\n",
      "0 0 0\n",
      "0 0 0\n",
      "0 0 0\n",
      "0 0 0\n",
      "0 0 0\n",
      "0 0 0\n",
      "0 0 0\n",
      "0 0 0\n",
      "0 0 0\n",
      "0 0 0\n",
      "0 0 0\n",
      "0 0 0\n",
      "0 0 0\n",
      "0 0 0\n",
      "0 0 0\n",
      "0 0 0\n",
      "0 0 0\n",
      "0 0 0\n",
      "0 0 0\n",
      "0 0 0\n",
      "1 2 1\n",
      "1 2 1\n",
      "1 2 1\n",
      "1 1 0\n",
      "1 2 1\n",
      "1 1 0\n",
      "1 2 1\n",
      "1 1 0\n",
      "1 2 1\n",
      "1 1 0\n",
      "1 1 0\n",
      "1 1 0\n",
      "1 1 0\n",
      "1 1 0\n",
      "1 1 0\n",
      "1 2 1\n",
      "1 1 0\n",
      "1 1 0\n",
      "1 1 0\n",
      "1 1 0\n",
      "1 2 1\n",
      "1 1 0\n",
      "1 1 0\n",
      "1 1 0\n",
      "1 2 1\n",
      "1 2 1\n",
      "1 2 1\n",
      "1 2 1\n",
      "1 1 0\n",
      "1 1 0\n",
      "1 1 0\n",
      "1 1 0\n",
      "1 1 0\n",
      "1 1 0\n",
      "1 1 0\n",
      "1 2 1\n",
      "1 2 1\n",
      "1 1 0\n",
      "1 1 0\n",
      "1 1 0\n",
      "1 1 0\n",
      "1 2 1\n",
      "1 1 0\n",
      "1 1 0\n",
      "1 1 0\n",
      "1 1 0\n",
      "1 1 0\n",
      "1 2 1\n",
      "1 1 0\n",
      "1 1 0\n",
      "2 2 0\n",
      "2 1 1\n",
      "2 2 0\n",
      "2 2 0\n",
      "2 2 0\n",
      "2 2 0\n",
      "2 1 1\n",
      "2 2 0\n",
      "2 2 0\n",
      "2 2 0\n",
      "2 2 0\n",
      "2 2 0\n",
      "2 2 0\n",
      "2 1 1\n",
      "2 1 1\n",
      "2 2 0\n",
      "2 2 0\n",
      "2 2 0\n",
      "2 2 0\n",
      "2 1 1\n",
      "2 2 0\n",
      "2 1 1\n",
      "2 2 0\n",
      "2 1 1\n",
      "2 2 0\n",
      "2 2 0\n",
      "2 1 1\n",
      "2 2 0\n",
      "2 2 0\n",
      "2 2 0\n",
      "2 2 0\n",
      "2 2 0\n",
      "2 2 0\n",
      "2 2 0\n",
      "2 1 1\n",
      "2 2 0\n",
      "2 2 0\n",
      "2 2 0\n",
      "2 1 1\n",
      "2 2 0\n",
      "2 2 0\n",
      "2 2 0\n",
      "2 1 1\n",
      "2 2 0\n",
      "2 2 0\n",
      "2 2 0\n",
      "2 1 1\n",
      "2 2 0\n",
      "2 2 0\n",
      "2 1 1\n",
      "The error rate is  0.193333333333\n"
     ]
    }
   ],
   "source": [
    "# this line below will predict a category for every row in X, not just rows 40 to 60\n",
    "Z = logreg.predict(X)\n",
    "\n",
    "# Estimate errors in an array called L\n",
    "# print len(Y)\n",
    "L = np.arange(len(Y))\n",
    "for i in range(len(Y)):\n",
    "        if Y[i] == Z[i]: \n",
    "            L[i] = 0\n",
    "        else:\n",
    "            L[i] = 1\n",
    "        \n",
    "print \"Y Z Error\"\n",
    "for i in range(len(Y)):\n",
    "    print Y[i], Z[i], L[i]\n",
    "    \n",
    "print \"The error rate is \", np.average(L)\n",
    "\n",
    "# Note:\n",
    "# Often the data is split into a training set and a testing set\n",
    "# for example\n",
    "X_train = X[:-20]  # all but last 20 rows\n",
    "Y_train = Y[:-20]  # all but last 20 rows\n",
    "X_test = X[-20:]   # last 20 rows to end\n",
    "Y_test = Y[-20:]   # last 20 rowns to end\n",
    "\n",
    "# to do this, randomize the order of X and Y first\n",
    "# print X_test, Y_test\n"
   ]
  },
  {
   "cell_type": "code",
   "execution_count": 9,
   "metadata": {},
   "outputs": [
    {
     "name": "stdout",
     "output_type": "stream",
     "text": [
      "finished Z\n",
      "finished Z2\n"
     ]
    }
   ],
   "source": [
    "# Plot the decision boundary. For that, we will assign a color to each\n",
    "# point in the mesh [x_min, x_max]x[y_min, y_max].\n",
    "h = 0.02  # step size in the mesh\n",
    "x_min = X[:, 0].min() - .5\n",
    "x_max =X[:, 0].max() + .5\n",
    "y_min = X[:, 1].min() - .5\n",
    "y_max = X[:, 1].max() + .5\n",
    "\n",
    "# print x_min, x_max, y_min, y_max\n",
    "xr = np.arange(x_min, x_max, h)\n",
    "yr = np.arange(y_min, y_max, h)\n",
    "\n",
    "xx, yy = np.meshgrid(np.arange(x_min, x_max, h), np.arange(y_min, y_max, h))\n",
    "Z = logreg.predict(np.c_[xx.ravel(), yy.ravel()])\n",
    "\n",
    "# Notes to help read code\n",
    "# numpy.ravel(a, order='C')  Return a contiguous flattened array. \n",
    "#‘C’ means to index the elements in row-major, C-style order, with \n",
    "# the last axis index changing fastest, back to the first axis index changing slowest.\n",
    "\n",
    "# numpy.c_ = <numpy.lib.index_tricks.CClass object at 0x49cad40c>\n",
    "# Translates slice objects to concatenation along the second axis.\n",
    "# >>> np.c_[np.array([[1,2,3]]), 0, 0, np.array([[4,5,6]])]\n",
    "# provides: array([[1, 2, 3, 0, 0, 4, 5, 6]])\n",
    "\n",
    "print 'finished Z'\n",
    "\n",
    "# another approach is to make an array Z2 which has all the predected values in (xr,yr).  \n",
    "# This takes longer\n",
    "Z2 = np.arange(len(xr)*len(yr)).reshape(len(xr),len(yr))\n",
    "for yni in range(len(yr)):\n",
    "    for xni in range(len(xr)):\n",
    "        #print xni, yni, logreg.predict([[xr[xni],yr[yni]]])\n",
    "        Z2[xni,yni] = logreg.predict([[xr[xni],yr[yni]]])\n",
    "print 'finished Z2'"
   ]
  },
  {
   "cell_type": "code",
   "execution_count": 10,
   "metadata": {},
   "outputs": [
    {
     "name": "stdout",
     "output_type": "stream",
     "text": [
      "(39501,)\n",
      "230 170\n"
     ]
    }
   ],
   "source": [
    "# try these to better undertand the code above\n",
    "print Z.shape\n",
    "#print len(xr), len(yr)\n",
    "#print Z2.shape\n",
    "#Z2[[1,1]] = 2\n",
    "print xni, yni\n",
    "#print xx[0,01]\n",
    "#print yy[0,10]\n"
   ]
  },
  {
   "cell_type": "code",
   "execution_count": 11,
   "metadata": {},
   "outputs": [
    {
     "data": {
      "image/png": "[encoded data removed]",
      "text/plain": [
       "<matplotlib.figure.Figure at 0x10d056f90>"
      ]
     },
     "metadata": {},
     "output_type": "display_data"
    }
   ],
   "source": [
    "# Put the result into a color plot\n",
    "Z = Z.reshape(xx.shape)\n",
    "plt.figure(1, figsize=(4, 3))\n",
    "plt.pcolormesh(xx, yy, Z, cmap=plt.cm.Paired)\n",
    "\n",
    "# Plot also the training points\n",
    "# plt.scatter(X[:, 0], X[:, 1], c=Y, edgecolors='k', cmap=plt.cm.Paired)\n",
    "# plt.xlabel('Sepal length')\n",
    "# plt.ylabel('Sepal width')\n",
    "\n",
    "# plt.xlim(xx.min(), xx.max())\n",
    "# plt.ylim(yy.min(), yy.max())\n",
    "# plt.xticks(())\n",
    "# plt.yticks(())\n",
    "\n",
    "plt.show()"
   ]
  },
  {
   "cell_type": "code",
   "execution_count": 12,
   "metadata": {},
   "outputs": [
    {
     "data": {
      "image/png": "[encoded data removed]",
      "text/plain": [
       "<matplotlib.figure.Figure at 0x10f776b50>"
      ]
     },
     "metadata": {},
     "output_type": "display_data"
    }
   ],
   "source": [
    "# Plot also the training points\n",
    "plt.scatter(X[:, 0], X[:, 1], c=Y, edgecolors='k', cmap=plt.cm.Paired)\n",
    "plt.xlabel('Sepal length')\n",
    "plt.ylabel('Sepal width')\n",
    "\n",
    "plt.xlim(xx.min(), xx.max())\n",
    "plt.ylim(yy.min(), yy.max())\n",
    "plt.xticks(())\n",
    "plt.yticks(())\n",
    "\n",
    "plt.show()"
   ]
  },
  {
   "cell_type": "code",
   "execution_count": 13,
   "metadata": {},
   "outputs": [
    {
     "data": {
      "image/png": "[encoded data removed]",
      "text/plain": [
       "<matplotlib.figure.Figure at 0x10d06add0>"
      ]
     },
     "metadata": {},
     "output_type": "display_data"
    }
   ],
   "source": [
    "# Put the result into a color plot\n",
    "Z = Z.reshape(xx.shape)\n",
    "plt.figure(1, figsize=(4, 3))\n",
    "plt.pcolormesh(xx, yy, Z, cmap=plt.cm.Paired)\n",
    "\n",
    "# Plot also the training points\n",
    "plt.scatter(X[:, 0], X[:, 1], c=Y, edgecolors='k', cmap=plt.cm.Paired)\n",
    "plt.xlabel('Sepal length')\n",
    "plt.ylabel('Sepal width')\n",
    "\n",
    "plt.xlim(xx.min(), xx.max())\n",
    "plt.ylim(yy.min(), yy.max())\n",
    "plt.xticks(())\n",
    "plt.yticks(())\n",
    "\n",
    "plt.show()"
   ]
  },
  {
   "cell_type": "markdown",
   "metadata": {},
   "source": [
    "## Logistic Regression\n",
    "\n",
    "A standard logistic sigmoid function\n",
    "<img src=\"https://upload.wikimedia.org/wikipedia/commons/thumb/8/88/Logistic-curve.svg/320px-Logistic-curve.svg.png\" width=\"50%\">"
   ]
  }
 ],
 "metadata": {
  "anaconda-cloud": {},
  "kernelspec": {
   "display_name": "Python 3",
   "language": "python",
   "name": "python3"
  },
  "language_info": {
   "codemirror_mode": {
    "name": "ipython",
    "version": 3
   },
   "file_extension": ".py",
   "mimetype": "text/x-python",
   "name": "python",
   "nbconvert_exporter": "python",
   "pygments_lexer": "ipython3",
   "version": "3.6.1"
  }
 },
 "nbformat": 4,
 "nbformat_minor": 1
}
