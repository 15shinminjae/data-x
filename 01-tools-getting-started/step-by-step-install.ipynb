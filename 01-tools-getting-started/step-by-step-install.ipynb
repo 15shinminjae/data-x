{
 "cells": [
  {
   "cell_type": "markdown",
   "metadata": {},
   "source": [
    "![data-x](http://oi64.tinypic.com/o858n4.jpg)\n",
    "\n",
    "---\n",
    "## Install Instructions for class requirements\n",
    "\n",
    "\n",
    "\n",
    "___"
   ]
  },
  {
   "cell_type": "markdown",
   "metadata": {},
   "source": [
    "## 0. Basic Setup\n",
    "___\n",
    "In order to run all the notebooks you need to download Anaconda with Python 2.7 and then install the package Jupyter notebook\n",
    "\n",
    "### 0.1 Python Distribution\n",
    "* [**Anaconda**](https://www.continuum.io/downloads)\n",
    "(Download the latest version of Anaconda with Python 2.7)\n",
    "\n",
    "### 0.2 Command Shell and Interactive Programming Interface\n",
    "* [**Jupyter Notebook**](http://jupyter.org/)\n",
    "\n",
    "To install Jupyter run the commands below:\n",
    "\n",
    "**Terminal (OSX/Ubuntu/Linux):** ```conda install jupyter```\n",
    "\n",
    "**Command Line (Windows): **"
   ]
  },
  {
   "cell_type": "markdown",
   "metadata": {},
   "source": [
    "## 1st & 2nd Lecture - Introduction\n",
    "____\n",
    "* **[Numpy](http://www.numpy.org/)**, **[Pandas](http://pandas.pydata.org/)**, and **[Matplotlib](http://matplotlib.org/)**\n",
    "\n",
    "To install the packages:\n",
    "\n",
    "**Terminal (OSX/Ubuntu/Linux):** ``conda install numpy pandas matplotlib``\n",
    "\n",
    "**Command Line (Windows): **"
   ]
  },
  {
   "cell_type": "markdown",
   "metadata": {},
   "source": [
    "## 3rd Lecture - Linear Regression & Prediction\n",
    "___\n",
    "* **[Scikit-Learn](http://scikit-learn.org/)**, **[SciPy](https://www.scipy.org/)**\n",
    "\n",
    "To install the package:\n",
    "\n",
    "**Terminal (OSX/Ubuntu/Linux):** ``conda install scikit-learn scipy``\n",
    "\n",
    "**Command Line (Windows): **\n"
   ]
  },
  {
   "cell_type": "markdown",
   "metadata": {},
   "source": [
    "## 4th Lecture - Classification\n",
    "___\n",
    "* **[Seaborn](http://seaborn.pydata.org/)**\n",
    "\n",
    "To install the package:\n",
    "\n",
    "**Terminal (OSX/Ubuntu/Linux):** ``conda install seaborn``\n",
    "\n",
    "**Command Line (Windows): **"
   ]
  },
  {
   "cell_type": "markdown",
   "metadata": {
    "collapsed": true
   },
   "source": [
    "## 5th Lecture - SQL Example\n",
    "___\n",
    "* **[sqlalchemy](http://www.sqlalchemy.org/)**\n",
    "\n",
    "To install the package:\n",
    "\n",
    "**Terminal (OSX/Ubuntu/Linux):** ``conda install sqlalchemy``\n",
    "\n",
    "**Command Line (Windows): **"
   ]
  },
  {
   "cell_type": "markdown",
   "metadata": {},
   "source": [
    "## 6th Lecture - Neural Nets\n",
    "___\n",
    "* **[TensorFlow](https://www.tensorflow.org/)**, **[h5py](http://www.h5py.org/)**, and **[Keras](https://keras.io/)**\n",
    "\n",
    "To install TensorFlow and Keras:\n",
    "\n",
    "**Terminal (OSX/Ubuntu/Linux):** \n",
    "````\n",
    "1. conda install -c conda-forge tensorflow\n",
    "2. conda install h5py\n",
    "3. conda install -c conda-forge Keras\n",
    "````\n",
    "\n",
    "**Command Line (Windows): **"
   ]
  },
  {
   "cell_type": "markdown",
   "metadata": {},
   "source": [
    "## 7th Lecture - Natural Language Processesing\n",
    "___\n",
    "* **[NLTK](http://www.nltk.org/)**\n",
    "\n",
    "To install the package:\n",
    "\n",
    "**Terminal (OSX/Ubuntu/Linux):**  ````conda install nltk````\n",
    "\n",
    "**Command Line (Windows): **"
   ]
  }
 ],
 "metadata": {
  "anaconda-cloud": {},
  "kernelspec": {
   "display_name": "Python [Root]",
   "language": "python",
   "name": "Python [Root]"
  },
  "language_info": {
   "codemirror_mode": {
    "name": "ipython",
    "version": 2
   },
   "file_extension": ".py",
   "mimetype": "text/x-python",
   "name": "python",
   "nbconvert_exporter": "python",
   "pygments_lexer": "ipython2",
   "version": "2.7.12"
  }
 },
 "nbformat": 4,
 "nbformat_minor": 1
}
