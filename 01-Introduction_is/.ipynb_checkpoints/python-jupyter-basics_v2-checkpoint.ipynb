{
 "cells": [
  {
   "cell_type": "markdown",
   "metadata": {},
   "source": [
    "![data-x](http://oi64.tinypic.com/o858n4.jpg) \n",
    "\n",
    "## Introduction to Data-X\n",
    "Mostly basics with Anaconda, Git, Python, and Jupyter Notebooks\n",
    "\n",
    "#### Authors: Alexander Fred Ojala & Ikhlaq Sidhu\n",
    "\n",
    "---\n"
   ]
  },
  {
   "cell_type": "markdown",
   "metadata": {},
   "source": [
    "# Table of Contents\n",
    "1. Installation of Anaconda / Virtual Env and Python 2 environment:\n",
    "    - https://conda.io/docs/user-guide/tasks/manage-environments.html\n",
    "2. Github:\n",
    "    - https://readwrite.com/2013/09/30/understanding-github-a-journey-for-beginners-part-1/\n",
    "    - https://readwrite.com/2013/10/02/github-for-beginners-part-2/\n",
    "3. Learning Python (resources):\n",
    "    - https://www.datacamp.com/ -- [Sign up here](https://docs.google.com/forms/d/e/1FAIpQLSfAxl_GkHvtWFA45RPpHASqGiX-whmqtHass8Jfkzoe9Xi12Q/viewform)\n",
    "    - \n",
    "4. Datahub: http://datahub.berkeley.edu/\n",
    "5. Data-X website\n",
    "6. Book\n",
    "7. This notebook"
   ]
  },
  {
   "cell_type": "markdown",
   "metadata": {},
   "source": [
    "# Introduction to Jupyter Notebooks"
   ]
  },
  {
   "cell_type": "markdown",
   "metadata": {},
   "source": [
    "From the [Project Jupyter Website](https://jupyter.org/):\n",
    "\n",
    "*The Jupyter Notebook is an open-source web application that allows you to create and share documents that contain live code, equations, visualizations and narrative text. Uses include: data cleaning and transformation, numerical simulation, statistical modeling, data visualization, machine learning, and much more.*"
   ]
  },
  {
   "cell_type": "markdown",
   "metadata": {},
   "source": [
    "## Notebook contains Markdown cells\n",
    "\n",
    "Where you write text\n",
    "Equations in Latex: $erf(x) = \\frac{1}{\\sqrt\\pi}\\int_{-x}^x e^{-t^2} dt$\n",
    "\n",
    "Matrices:\n",
    "\n",
    "$$\n",
    "\\begin{bmatrix}\n",
    "    x_{11} & x_{12} & x_{13} & \\dots  & x_{1n} \\\\\n",
    "    x_{21} & x_{22} & x_{23} & \\dots  & x_{2n} \\\\\n",
    "    \\vdots & \\vdots & \\vdots & \\ddots & \\vdots \\\\\n",
    "    x_{d1} & x_{d2} & x_{d3} & \\dots  & x_{dn}\n",
    "\\end{bmatrix} \n",
    "$$\n",
    "\n",
    "\n",
    "<div class='alert alert-warning'>Bootstrap CSS and `HTML`</div>\n",
    "\n",
    "# Headers\n",
    "Dividers:\n",
    "\n",
    "---\n",
    "\n",
    "Useful images: ![a](https://image.slidesharecdn.com/juan-rodriguez-ucberkeley-120331003737-phpapp02/95/juanrodriguezuc-berkeley-3-728.jpg?cb=1333154305)"
   ]
  },
  {
   "cell_type": "markdown",
   "metadata": {},
   "source": [
    "Here is a link to a lot of useful Markdown commands: https://github.com/adam-p/markdown-here/wiki/Markdown-Cheatsheet"
   ]
  },
  {
   "cell_type": "markdown",
   "metadata": {},
   "source": [
    "# Code Cells"
   ]
  },
  {
   "cell_type": "code",
   "execution_count": 19,
   "metadata": {},
   "outputs": [
    {
     "data": {
      "text/plain": [
       "4"
      ]
     },
     "execution_count": 19,
     "metadata": {},
     "output_type": "execute_result"
    }
   ],
   "source": [
    "2+2"
   ]
  },
  {
   "cell_type": "code",
   "execution_count": 20,
   "metadata": {
    "collapsed": true
   },
   "outputs": [],
   "source": [
    "# Comment in a code cells"
   ]
  },
  {
   "cell_type": "code",
   "execution_count": 29,
   "metadata": {},
   "outputs": [
    {
     "name": "stdout",
     "output_type": "stream",
     "text": [
      "total 9708\r\n",
      "drwxrwxr-x  4 afo afo    4096 Jan 17 22:47 \u001b[0m\u001b[01;34m.\u001b[0m/\r\n",
      "drwxrwxr-x 34 afo afo    4096 Jan 16 15:47 \u001b[01;34m..\u001b[0m/\r\n",
      "drwxrwxr-x  2 afo afo    4096 Jan 17 22:44 \u001b[01;34marchive\u001b[0m/\r\n",
      "-rw-rw-r--  1 afo afo 9903809 Jan 17 21:43 data-x-introduction-sp18v1.pdf\r\n",
      "drwxrwxr-x  2 afo afo    4096 Jan 17 21:48 \u001b[01;34m.ipynb_checkpoints\u001b[0m/\r\n",
      "-rw-rw-r--  1 afo afo   17566 Jan 17 22:47 python-jupyter-basics_v2.ipynb\r\n"
     ]
    }
   ],
   "source": [
    "# Magic commands (only for Jupyter and IPython, won't work in script)\n",
    "%ls -la"
   ]
  },
  {
   "cell_type": "code",
   "execution_count": 28,
   "metadata": {},
   "outputs": [
    {
     "name": "stdout",
     "output_type": "stream",
     "text": [
      "data-x is the best class at uc berkeley!\r\n",
      "//anonymous\r\n",
      "\r\n",
      "line 4\r\n"
     ]
    }
   ],
   "source": [
    "# Bash commands\n",
    "!cat archive/random.txt"
   ]
  },
  {
   "cell_type": "code",
   "execution_count": 27,
   "metadata": {},
   "outputs": [
    {
     "name": "stdout",
     "output_type": "stream",
     "text": [
      "4 archive/random.txt\r\n"
     ]
    }
   ],
   "source": [
    "!wc -l archive/random.txt"
   ]
  },
  {
   "cell_type": "markdown",
   "metadata": {},
   "source": [
    "# Useful tips:\n",
    "1. Insert cells\n",
    "2. Delete cells\n",
    "3. Mark several cells\n",
    "4. Selection Mode (Esc)\n",
    "5. Stopping and running the Kernel\n",
    "6. Merge cells\n",
    "7. The folder .ipynb-checkpoints"
   ]
  },
  {
   "cell_type": "markdown",
   "metadata": {},
   "source": [
    "# Printing to pdf\n",
    "Use printer or install Latex to render."
   ]
  },
  {
   "cell_type": "markdown",
   "metadata": {},
   "source": [
    "# Quick Review of Python Topics"
   ]
  },
  {
   "cell_type": "code",
   "execution_count": 1,
   "metadata": {},
   "outputs": [
    {
     "name": "stdout",
     "output_type": "stream",
     "text": [
      "/home/afo/anaconda3/envs/data-x/bin/python\r\n"
     ]
    }
   ],
   "source": [
    "!which python"
   ]
  },
  {
   "cell_type": "code",
   "execution_count": 1,
   "metadata": {},
   "outputs": [
    {
     "name": "stdout",
     "output_type": "stream",
     "text": [
      "3.6.3 |Anaconda, Inc.| (default, Oct 13 2017, 12:02:49) \n",
      "[GCC 7.2.0]\n"
     ]
    }
   ],
   "source": [
    "# for Python Version 3\n",
    "import sys\n",
    "print(sys.version)"
   ]
  },
  {
   "cell_type": "code",
   "execution_count": 2,
   "metadata": {},
   "outputs": [
    {
     "name": "stdout",
     "output_type": "stream",
     "text": [
      "4.1\n",
      "100\n",
      "False\n",
      "2\n",
      "2.3333333333333335\n",
      "2.3333333333333335\n",
      "<class 'int'>\n",
      "<class 'float'>\n"
     ]
    }
   ],
   "source": [
    "#calculator\n",
    "print (2.1 + 2)\n",
    "print (10 * 10)\n",
    "print (3 == 1)\n",
    "print (7//3) # is floor\n",
    "print (7.0/3)\n",
    "print (float(7) / 3)\n",
    "print (type (2))\n",
    "print (type (2.0))"
   ]
  },
  {
   "cell_type": "code",
   "execution_count": 3,
   "metadata": {},
   "outputs": [
    {
     "name": "stdout",
     "output_type": "stream",
     "text": [
      "(2+1j)\n",
      "125\n",
      "2\n"
     ]
    }
   ],
   "source": [
    "# more numbers\n",
    "print (complex (2,1))\n",
    "a = 3; b = 5\n",
    "print (b**a) # ** is 'to the power'\n",
    "print (5%3)  # mod = remainder"
   ]
  },
  {
   "cell_type": "code",
   "execution_count": 4,
   "metadata": {},
   "outputs": [
    {
     "name": "stdout",
     "output_type": "stream",
     "text": [
      "False\n",
      "True\n"
     ]
    }
   ],
   "source": [
    "# boolean\n",
    "a = True; b = False; c = True\n",
    "print (a and b)\n",
    "print (a or b)"
   ]
  },
  {
   "cell_type": "code",
   "execution_count": 5,
   "metadata": {},
   "outputs": [
    {
     "name": "stdout",
     "output_type": "stream",
     "text": [
      "True\n",
      "False\n"
     ]
    }
   ],
   "source": [
    "print (isinstance(1,int))\n",
    "print (isinstance(2.5,int))"
   ]
  },
  {
   "cell_type": "markdown",
   "metadata": {},
   "source": [
    "## String slicing and indices\n",
    "<img src=\"archive/spam.png\" width=\"480\">"
   ]
  },
  {
   "cell_type": "code",
   "execution_count": 6,
   "metadata": {},
   "outputs": [
    {
     "name": "stdout",
     "output_type": "stream",
     "text": [
      "b\n",
      "<class 'str'>\n",
      "length =  26\n",
      "abcdefghijklmnopqrstuvwxyz\n",
      "bcdefghijklmnopqrstuvwxy\n",
      "adgjmpsvy\n",
      "zyxwvutsrqponmlkjihgfedcba\n",
      "zxvtrpnljhfd\n"
     ]
    }
   ],
   "source": [
    "# Strings and slicing\n",
    "x = \"abcdefghijklmnopqrstuvwxyz\"\n",
    "print(x[1])\n",
    "print (type(x))\n",
    "print (\"length = \",len(x))\n",
    "print (x)\n",
    "print (x[1:25:1]) # start:stop:step\n",
    "print (x[::3])\n",
    "print (x[::-1])\n",
    "print (x[len(x)-1:1:-2])"
   ]
  },
  {
   "cell_type": "code",
   "execution_count": 7,
   "metadata": {},
   "outputs": [
    {
     "name": "stdout",
     "output_type": "stream",
     "text": [
      "The quick brown \n",
      "fox jumped over \n",
      "the lazy dog.\n",
      "['The', 'quick', 'brown', '\\nfox', 'jumped', 'over', '\\nthe', 'lazy', 'dog.']\n",
      "['The', 'quick', 'brown', 'fox', 'jumped', 'over', 'the', 'lazy', 'dog.']\n",
      "The-quick-brown-fox-jumped-over-the-lazy-dog.\n"
     ]
    }
   ],
   "source": [
    "# Triple quotes are useful for multiple line strings\n",
    "y = '''The quick brown \n",
    "fox jumped over \n",
    "the lazy dog.'''\n",
    "print (y)\n",
    "# tokenize by space\n",
    "words = y.split(' ')\n",
    "print (words)\n",
    "words = y.split()\n",
    "print (words)\n",
    "print ('-'.join(words))  # put the list back into a sting with join"
   ]
  },
  {
   "cell_type": "code",
   "execution_count": 8,
   "metadata": {},
   "outputs": [
    {
     "name": "stdout",
     "output_type": "stream",
     "text": [
      "('a', 'b', 3)\n",
      "<class 'tuple'>\n"
     ]
    },
    {
     "data": {
      "text/plain": [
       "'b'"
      ]
     },
     "execution_count": 8,
     "metadata": {},
     "output_type": "execute_result"
    }
   ],
   "source": [
    "# data structures - tuple\n",
    "t = ('a','b', 3)\n",
    "print (t) \n",
    "print (type (t))\n",
    "isinstance(t,tuple)\n",
    "t[1]"
   ]
  },
  {
   "cell_type": "code",
   "execution_count": 9,
   "metadata": {},
   "outputs": [
    {
     "name": "stdout",
     "output_type": "stream",
     "text": [
      "['hello']\n"
     ]
    }
   ],
   "source": [
    "y = list()\n",
    "type(y)\n",
    "y.append('hello')\n",
    "#print(y)\n",
    "y.append('world')\n",
    "y.pop(1)\n",
    "print(y)"
   ]
  },
  {
   "cell_type": "code",
   "execution_count": 10,
   "metadata": {},
   "outputs": [
    {
     "name": "stdout",
     "output_type": "stream",
     "text": [
      "['hello', 'world']\n",
      "['hello']\n"
     ]
    }
   ],
   "source": [
    "#data structure - list\n",
    "y = list()\n",
    "y.append(\"hello\")\n",
    "y.append(\"world\")\n",
    "print (y)\n",
    "y.pop(1); print (y) # remove position 1"
   ]
  },
  {
   "cell_type": "code",
   "execution_count": 11,
   "metadata": {},
   "outputs": [
    {
     "name": "stdout",
     "output_type": "stream",
     "text": [
      "[0, 2, 4, 6, 8, 10, 12, 14, 16, 18]\n"
     ]
    }
   ],
   "source": [
    "# list of numbers\n",
    "y = list(range(0,20,2))\n",
    "print (y)"
   ]
  },
  {
   "cell_type": "code",
   "execution_count": 12,
   "metadata": {},
   "outputs": [
    {
     "name": "stdout",
     "output_type": "stream",
     "text": [
      "[1, 4, 'c', 4, 2, 6]\n",
      "True False\n",
      "<class 'list'>\n",
      "6\n",
      "c\n",
      "---\n",
      "1\n",
      "4\n",
      "c\n",
      "4\n",
      "2\n",
      "6\n"
     ]
    }
   ],
   "source": [
    "z = [1,4,'c',4, 2, 6]\n",
    "print (z)\n",
    "print ('c' in z, 'd' in z)  # its easy to know if an element is in a list\n",
    "print (type(z))\n",
    "print (len(z))\n",
    "print (z[2])  # print element in position #2\n",
    "print (\"---\")\n",
    "for i in z: # traverse list with loop\n",
    "    print (i)"
   ]
  },
  {
   "cell_type": "code",
   "execution_count": 17,
   "metadata": {},
   "outputs": [
    {
     "name": "stdout",
     "output_type": "stream",
     "text": [
      "[1, 2, 4, 4, 6]\n",
      "2\n"
     ]
    }
   ],
   "source": [
    "#z.sort() # doesn't work\n",
    "z.pop(2)\n",
    "z.sort()\n",
    "print (z)\n",
    "print (z.count(4))  # how many times is there a 4"
   ]
  },
  {
   "cell_type": "code",
   "execution_count": 18,
   "metadata": {},
   "outputs": [
    {
     "name": "stdout",
     "output_type": "stream",
     "text": [
      "this item is  1\n",
      "this item is  2\n",
      "this item is  4\n",
      "this item is  4\n",
      "this item is  6\n",
      "---\n",
      "item  0  is  1\n",
      "item  1  is  2\n",
      "item  2  is  4\n",
      "item  3  is  4\n",
      "item  4  is  6\n",
      "---\n",
      "0\n",
      "2\n",
      "4\n",
      "6\n",
      "8\n"
     ]
    }
   ],
   "source": [
    "# loop examples\n",
    "for x in z:\n",
    "    print (\"this item is \", x)\n",
    "print(\"---\")\n",
    "for i,x in enumerate(z):\n",
    "    print (\"item \", i,\" is \", x )\n",
    "print (\"---\") \n",
    "for i in range(0,10,2):\n",
    "    print (i)"
   ]
  },
  {
   "cell_type": "code",
   "execution_count": 19,
   "metadata": {},
   "outputs": [
    {
     "name": "stdout",
     "output_type": "stream",
     "text": [
      "[0, 1, 4, 9, 16, 25, 36, 49, 64, 81]\n",
      "[0, 4, 16, 36, 64]\n"
     ]
    }
   ],
   "source": [
    "# list comprehesion is like f(x) for x as an element of Set X\n",
    "# S = {x² : x in {0 ... 9}}\n",
    "S = [x**2 for x in range(10)]\n",
    "print (S)\n",
    "# M = {x | x in S and x even}\n",
    "M = [x for x in S if x % 2 == 0]\n",
    "print (M)"
   ]
  },
  {
   "cell_type": "code",
   "execution_count": 20,
   "metadata": {},
   "outputs": [
    {
     "name": "stdout",
     "output_type": "stream",
     "text": [
      "{1, 2, 3, 4, 5}\n",
      "{'c', 'b', 'a', 'd', 'f', 'e'}\n",
      "{1, 2, 3, 4, 5, 'c', 'b', 'a', 'd', 'f', 'e'}\n",
      "{1, 2, 3, 4, 5, 'b', 'd', 'f', 'a'}\n",
      "{1, 2, 3, 4}\n"
     ]
    }
   ],
   "source": [
    "# a set is not ordered\n",
    "a = set([1, 2, 3, 4, 5]); print (a)\n",
    "b = set('abcdef'); print (b)\n",
    "print (a|b)\n",
    "print (a|b - set([1,3,5,'c', 'e']))\n",
    "a.remove(5); print (a) # removes the '5'"
   ]
  },
  {
   "cell_type": "code",
   "execution_count": 21,
   "metadata": {},
   "outputs": [
    {
     "name": "stdout",
     "output_type": "stream",
     "text": [
      "Use key 'f2' to access value:  20\n",
      "30\n",
      "10\n",
      "40\n",
      "None\n",
      "25\n"
     ]
    }
   ],
   "source": [
    "# Dictionaries, many ways to create them\n",
    "# First way to create a dictionary is just to assign it\n",
    "D1 = {'f1': 10, 'f2': 20, 'f3':25}              \n",
    "print (\"Use key 'f2' to access value: \", D1['f2'])\n",
    "\n",
    "# 2. creating a dictionary using the dict()\n",
    "D2 = dict(f1=10, f2=20, f3 = 30)\n",
    "print (D2['f3'])\n",
    "\n",
    "# 3. Another way, start with empty dictionary\n",
    "D3 = {}\n",
    "D3['f1'] = 10\n",
    "D3['f2'] = 20\n",
    "print (D3['f1'])\n",
    "\n",
    "# 4th way, start with list of key-value tuples\n",
    "y = [('f1', 10), ('f2', 40),('f3',60)]\n",
    "D4 = dict(y)\n",
    "print (D4['f2'])\n",
    "\n",
    "#5 From keys\n",
    "keys = ('a', 'b', 'c')\n",
    "D5 = dict.fromkeys(keys)               # new dict with empty values\n",
    "print (D5['c'])\n",
    "# print D5['x'] but this will give an error\n",
    "\n",
    "# Dictionaries can be more complex, ie dictionary of dictionary or of tuples, etc.\n",
    "D5['a'] = D1; D5['b'] = D2\n",
    "print (D5['a']['f3'])"
   ]
  },
  {
   "cell_type": "code",
   "execution_count": 22,
   "metadata": {},
   "outputs": [
    {
     "name": "stdout",
     "output_type": "stream",
     "text": [
      "f1\n",
      "f2\n",
      "f3\n",
      "- or simply -\n",
      "f1\n",
      "f2\n",
      "f3\n"
     ]
    }
   ],
   "source": [
    "# traversing by key\n",
    "# key is imutable, key can be number or string\n",
    "for k in D1.keys():\n",
    "    print (k)\n",
    "print (\"- or simply -\")\n",
    "for k in D1: print(k) "
   ]
  },
  {
   "cell_type": "code",
   "execution_count": 23,
   "metadata": {},
   "outputs": [
    {
     "name": "stdout",
     "output_type": "stream",
     "text": [
      "10\n",
      "20\n",
      "30\n"
     ]
    }
   ],
   "source": [
    "# traversing by values\n",
    "for v in D2.values(): print(v)"
   ]
  },
  {
   "cell_type": "code",
   "execution_count": 24,
   "metadata": {},
   "outputs": [
    {
     "name": "stdout",
     "output_type": "stream",
     "text": [
      "f1 10\n",
      "f2 20\n",
      "f3 25\n"
     ]
    }
   ],
   "source": [
    "# traverse by key and value is called item\n",
    "for k, v in D1.items():                # tuples with keys and values\n",
    "    print (k,v)\n",
    "    "
   ]
  },
  {
   "cell_type": "code",
   "execution_count": 25,
   "metadata": {},
   "outputs": [
    {
     "name": "stdout",
     "output_type": "stream",
     "text": [
      "Input a number:\n",
      "1\n",
      "The number is  1\n"
     ]
    }
   ],
   "source": [
    "# input\n",
    "# raw_input() was renamed to input() in Python v3.x\n",
    "# The old input() is gone, but you can emulate it with eval(input())\n",
    "\n",
    "print (\"Input a number:\")\n",
    "s = input()  # returns a string\n",
    "a = int(s)\n",
    "print (\"The number is \", a)"
   ]
  },
  {
   "cell_type": "markdown",
   "metadata": {},
   "source": [
    "# Variables"
   ]
  },
  {
   "cell_type": "code",
   "execution_count": 1,
   "metadata": {},
   "outputs": [
    {
     "data": {
      "text/plain": [
       "1"
      ]
     },
     "execution_count": 1,
     "metadata": {},
     "output_type": "execute_result"
    }
   ],
   "source": [
    "a = 1\n",
    "a"
   ]
  },
  {
   "cell_type": "code",
   "execution_count": 2,
   "metadata": {},
   "outputs": [
    {
     "data": {
      "text/plain": [
       "2"
      ]
     },
     "execution_count": 2,
     "metadata": {},
     "output_type": "execute_result"
    }
   ],
   "source": [
    "a+1"
   ]
  },
  {
   "cell_type": "markdown",
   "metadata": {},
   "source": [
    "# Functions / Classes"
   ]
  },
  {
   "cell_type": "code",
   "execution_count": null,
   "metadata": {
    "collapsed": true
   },
   "outputs": [],
   "source": [
    "a"
   ]
  }
 ],
 "metadata": {
  "anaconda-cloud": {},
  "kernelspec": {
   "display_name": "Python 3",
   "language": "python",
   "name": "python3"
  },
  "language_info": {
   "codemirror_mode": {
    "name": "ipython",
    "version": 3
   },
   "file_extension": ".py",
   "mimetype": "text/x-python",
   "name": "python",
   "nbconvert_exporter": "python",
   "pygments_lexer": "ipython3",
   "version": "3.6.3"
  }
 },
 "nbformat": 4,
 "nbformat_minor": 1
}
